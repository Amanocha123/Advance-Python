{
 "cells": [
  {
   "cell_type": "code",
   "execution_count": null,
   "id": "877e635b-a45d-4536-9d14-fe0c5ccd80f6",
   "metadata": {},
   "outputs": [],
   "source": [
    "def square(x):\n",
    "    return x ** 2\n",
    "\n",
    "x = float(input(\"Enter a number: \"))\n",
    "out = square(x)\n",
    "print(f\"The square of {x} is {out}\")"
   ]
  },
  {
   "cell_type": "code",
   "execution_count": null,
   "id": "a4495e3c-9331-4300-b9c0-928991c7b35f",
   "metadata": {},
   "outputs": [],
   "source": []
  }
 ],
 "metadata": {
  "kernelspec": {
   "display_name": "Python 3 (ipykernel)",
   "language": "python",
   "name": "python3"
  },
  "language_info": {
   "codemirror_mode": {
    "name": "ipython",
    "version": 3
   },
   "file_extension": ".py",
   "mimetype": "text/x-python",
   "name": "python",
   "nbconvert_exporter": "python",
   "pygments_lexer": "ipython3",
   "version": "3.11.7"
  }
 },
 "nbformat": 4,
 "nbformat_minor": 5
}
